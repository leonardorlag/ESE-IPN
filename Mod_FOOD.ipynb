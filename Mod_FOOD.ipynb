{
 "cells": [
  {
   "cell_type": "markdown",
   "metadata": {},
   "source": [
    "# <h1><center> El Problema de la Dieta </center></h1>"
   ]
  },
  {
   "cell_type": "markdown",
   "metadata": {},
   "source": [
    "### Seminario: Introducción a los Modelos de Optimización - ESE-IPN"
   ]
  },
  {
   "cell_type": "markdown",
   "metadata": {},
   "source": [
    "A continuación describimos el modelo de optimización del problema de la dieta.\n",
    "\n",
    "##### Conjuntos\n",
    "\n",
    "<ol>\n",
    "  <li>$F$, conjunto de alimentos $i$.</li>\n",
    "  <li>$N$, conjunto de tipos de nutriente $j$.</li> \n",
    "</ol>\n",
    "\n",
    "##### Parámetros\n",
    "\n",
    "<ol>\n",
    "  <li>$c_i \\geq 0$, costo unitario del alimento $i\\in F$,</li>\n",
    "  <li>$r_{i,j} \\geq 0$, cantidad de nutrientes de tipo $j$ contenidad en una unidad del alimento $i$,</li>\n",
    "  <li>$fm_i\\geq 0$, cantidad minima del alimento $i$ que debe contener la dieta,</li>\n",
    "  <li>$FM_i\\geq fm_i$, cantidad máxima del alimento $i$ que puede contener la dieta,</li>\n",
    "  <li>$nm_j\\geq 0$, cantidad minima del nutriente $j$ que debe contener la dieta,</li>\n",
    "  <li>$NM_j\\geq nm_j$, cantidad máxima del nutriente $j$ que puede contener la dieta.</li>\n",
    "</ol>\n",
    "\n",
    "\n",
    "##### Variables \n",
    "\n",
    "<ol>\n",
    "  <li>$x_i \\geq 0$, cantidad de alimento $i\\in F$ que se incluirá en la dieta.</li>\n",
    "</ol>\n",
    "\n",
    "##### Función objetivo \n",
    "\n",
    "$$\n",
    "\\min \\sum_{i \\in F} c_ix_i \\tag{1}\n",
    "$$\n",
    "\n",
    "##### Restricciones \n",
    "\n",
    "$$\n",
    "fm_i \\leq x_i \\leq FM_i  \\text{  para cada  }  i\\in F,  \\tag{2}\n",
    "$$\n",
    "\n",
    "\n",
    "$$\n",
    "nm_j \\leq \\sum_{i\\in F} x_ir_{i,j} \\leq NM_j  \\hsapce{0.5cm} \\text{  para cada   }  \\hsapce{0.2cm}  j\\in N. \\tag{3} \n",
    "$$"
   ]
  },
  {
   "cell_type": "markdown",
   "metadata": {},
   "source": [
    "Primero importamos los módulos de Python que usaremos para resolver nuestro problema. "
   ]
  },
  {
   "cell_type": "code",
   "execution_count": 31,
   "metadata": {
    "collapsed": true
   },
   "outputs": [],
   "source": [
    "#%%Se importan los módulos necesarios ------------------------------------------\n",
    "import pandas as pd                                                            #para manipular tablas\n",
    "import numpy as np\n",
    "import matplotlib.pyplot as plt\n",
    "from pulp import LpProblem, LpVariable, LpMinimize,lpSum, value                #para el modelo de optimización \n",
    "#------------------------------------------------------------------------------"
   ]
  },
  {
   "cell_type": "markdown",
   "metadata": {},
   "source": [
    "Luego leemos los parámetros del modelo. Para este ejemplo, nuestros datos estan en un archivo Excel.  "
   ]
  },
  {
   "cell_type": "code",
   "execution_count": 32,
   "metadata": {},
   "outputs": [
    {
     "name": "stdout",
     "output_type": "stream",
     "text": [
      "--------------------------------------------------\n",
      "      cost  f_min  f_max\n",
      "FOOD                    \n",
      "BEEF  3.19      2     10\n",
      "CHK   2.59      2     10\n",
      "FISH  2.29      2     10\n",
      "HAM   2.89      2     10\n",
      "MCH   1.89      2     10\n",
      "MTL   1.99      2     10\n",
      "SPG   1.99      2     10\n",
      "TUR   2.49      2     10\n",
      "--------------------------------------------------\n",
      "      n_min  n_max\n",
      "NUTR              \n",
      "A       700  20000\n",
      "C       700  20000\n",
      "B1      700  20000\n",
      "B2      700  20000\n",
      "NAA       0  50000\n",
      "CAL   16000  24000\n",
      "--------------------------------------------------\n",
      "            A   C  B1  B2   NAA  CAL\n",
      "FOOD_NUTR                           \n",
      "BEEF       60  20  10  15   938  295\n",
      "CHK         8   0  20  20  2180  770\n",
      "FISH        8  10  15  10   945  440\n",
      "HAM        40  40  35  10   278  430\n",
      "MCH        15  35  15  15  1182  315\n",
      "MTL        70  30  15  15   896  400\n",
      "SPG        25  50  25  15  1329  370\n",
      "TUR        60  20  15  10  1397  450\n",
      "--------------------------------------------------\n"
     ]
    }
   ],
   "source": [
    "file=\"C:/Users/A1644/OneDrive - Centro Nacional de Control de Energia (CENACE)/ESE-IPN- II-2017/Optimización/Python/BD_food.xlsx\"\n",
    "\n",
    "x=pd.ExcelFile(file)                                                           #lee el archivo excel\n",
    "\n",
    "DF_F=x.parse('FOOD',index_col=\"FOOD\")                                          #lee las tablas del archivo excel\n",
    "DF_N=x.parse('NUTR',index_col=\"NUTR\")\n",
    "DF_FN=x.parse('FOOD_NUTR',index_col=\"FOOD_NUTR\")       \n",
    "\n",
    "print(\"-\"*50)\n",
    "print(DF_F)\n",
    "print(\"-\"*50)\n",
    "print(DF_N)\n",
    "print(\"-\"*50)\n",
    "print(DF_FN)\n",
    "print(\"-\"*50)"
   ]
  },
  {
   "cell_type": "markdown",
   "metadata": {},
   "source": [
    "Ahora escribimos el modelo."
   ]
  },
  {
   "cell_type": "code",
   "execution_count": 33,
   "metadata": {},
   "outputs": [
    {
     "data": {
      "text/plain": [
       "1"
      ]
     },
     "execution_count": 33,
     "metadata": {},
     "output_type": "execute_result"
    }
   ],
   "source": [
    "#%% Se define el problema------------------------------------------------------\n",
    "Probf=LpProblem(\"Total_Cost\",LpMinimize)\n",
    "\n",
    "#se declaran las variables del modelo de optimización -------------------------\n",
    "X=LpVariable.dicts(\"food\", set(DF_F.index), lowBound=0, cat=\"Continuous\")  \n",
    "\n",
    "#Se define la función objetivo ------------------------------------------------ \n",
    "Probf+=lpSum(DF_F.loc[t,\"cost\"]*X[t] for t in DF_F.index)\n",
    "\n",
    "#Se agregan las restricciones ------------------------------------------------- \n",
    "for i in DF_F.index:\n",
    "    Probf+= X[i] >= DF_F.loc[i,\"f_min\"]\n",
    "    Probf+= X[i] <= DF_F.loc[i,\"f_max\"]\n",
    "\n",
    "#Se agregan las restricciones ------------------------------------------------- \n",
    "for j in DF_N.index:\n",
    "    Probf+= lpSum(X[i]*DF_FN.loc[i,j] for i in DF_F.index) >= DF_N.loc[j,\"n_min\"]\n",
    "    Probf+= lpSum(X[i]*DF_FN.loc[i,j] for i in DF_F.index) <= DF_N.loc[j,\"n_max\"]\n",
    "\n",
    "#Se elige el solver------------------------------------------------------------ \n",
    "Probf.solve()    \n",
    "    "
   ]
  },
  {
   "cell_type": "markdown",
   "metadata": {},
   "source": [
    "NOTA.  Pulp no acepta las siguentes formas de restricción: "
   ]
  },
  {
   "cell_type": "markdown",
   "metadata": {},
   "source": [
    "(4)   Prob+= DF_N.loc[j,\"n_min\"] <= lpSum(X[i]*DF_FN.loc[i,j] for i in DF_F.index) <= DF_N.loc[j,\"n_max\"]"
   ]
  },
  {
   "cell_type": "markdown",
   "metadata": {},
   "source": [
    "(5)   Prob+= DF_N.loc[j,\"n_min\"] <= lpSum(X[i]*DF_FN.loc[i,j] for i in DF_F.index)"
   ]
  },
  {
   "cell_type": "markdown",
   "metadata": {},
   "source": [
    "En el primer caso (4), solo reconoce la ultima desigualdad. El segundo caso (5) nos mostrará un mensaje de error. "
   ]
  },
  {
   "cell_type": "markdown",
   "metadata": {},
   "source": [
    "A continuación mostramos la solución del problema de optimización."
   ]
  },
  {
   "cell_type": "code",
   "execution_count": 35,
   "metadata": {},
   "outputs": [
    {
     "name": "stdout",
     "output_type": "stream",
     "text": [
      "food_BEEF = 5.3606138\n",
      "food_CHK = 2.0\n",
      "food_FISH = 2.0\n",
      "food_HAM = 10.0\n",
      "food_MCH = 10.0\n",
      "food_MTL = 10.0\n",
      "food_SPG = 9.3060529\n",
      "food_TUR = 2.0\n",
      "--------------------------------------------------\n",
      "Valor Obj. = 118.059403293\n"
     ]
    }
   ],
   "source": [
    "for v in Prob.variables():\n",
    "    print(v.name,\"=\",v.varValue)                                               #valor de las variables         \n",
    "\n",
    "print(\"-\"*50)\n",
    "print(\"Valor Obj.\",\"=\", value(Prob.objective)) "
   ]
  },
  {
   "cell_type": "markdown",
   "metadata": {},
   "source": [
    "La solución anterior coencide con el que se muestra en la Página 35 del manual de AMPL."
   ]
  },
  {
   "cell_type": "markdown",
   "metadata": {},
   "source": [
    "### Reporte"
   ]
  },
  {
   "cell_type": "code",
   "execution_count": 34,
   "metadata": {},
   "outputs": [
    {
     "data": {
      "image/png": "[encoded data removed]",
      "text/plain": [
       "<matplotlib.figure.Figure at 0x13ff59518d0>"
      ]
     },
     "metadata": {},
     "output_type": "display_data"
    }
   ],
   "source": [
    "x1 = np.arange(len(DF_F.index))\n",
    "\n",
    "ym = DF_F.loc[:,\"f_min\"]\n",
    "ys = [v.varValue for v in Probf.variables()]\n",
    "yM = DF_F.loc[:,\"f_max\"]\n",
    "\n",
    "plt.plot(x1, ym, '.-')\n",
    "plt.plot(x1, ys, '.-')\n",
    "plt.plot(x1, yM, '.-')\n",
    "\n",
    "plt.xticks(x1, DF_F.index, rotation='vertical', color = \"gray\")\n",
    "plt.xlabel('Alimentos')\n",
    "plt.ylabel('Cantidad')\n",
    "\n",
    "plt.show()"
   ]
  },
  {
   "cell_type": "code",
   "execution_count": null,
   "metadata": {
    "collapsed": true
   },
   "outputs": [],
   "source": []
  }
 ],
 "metadata": {
  "kernelspec": {
   "display_name": "Python [default]",
   "language": "python",
   "name": "python3"
  },
  "language_info": {
   "codemirror_mode": {
    "name": "ipython",
    "version": 3
   },
   "file_extension": ".py",
   "mimetype": "text/x-python",
   "name": "python",
   "nbconvert_exporter": "python",
   "pygments_lexer": "ipython3",
   "version": "3.5.3"
  }
 },
 "nbformat": 4,
 "nbformat_minor": 2
}
