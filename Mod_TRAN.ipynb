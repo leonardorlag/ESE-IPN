{
 "cells": [
  {
   "cell_type": "markdown",
   "metadata": {},
   "source": [
    "# <h1><center> El Problema de Transporte y Asignación </center></h1>"
   ]
  },
  {
   "cell_type": "markdown",
   "metadata": {},
   "source": [
    "### Seminario: Introducción a los Modelos de Optimización - ESE-IPN"
   ]
  },
  {
   "cell_type": "markdown",
   "metadata": {},
   "source": [
    "A continuación describimos el modelo de optimización del problema de transporte y asignación.\n",
    "\n",
    "##### Conjuntos\n",
    "\n",
    "<ol>\n",
    "  <li>$O$, conjunto de puntos de orígen $i$.</li>\n",
    "  <li>$D$, conjunto de puntos de destino $j$.</li> \n",
    "</ol>\n",
    "\n",
    "##### Parámetros\n",
    "\n",
    "<ol>\n",
    "  <li>$p_i \\geq 0$, cantidad de producción de la unidad de orígen $i\\in O$,</li>\n",
    "  <li>$d_j \\geq 0$, cantidad de la demanda de la unidad de destino $j\\in D$,</li>\n",
    "  <li>$c_{i,j} \\geq 0$, costo de transporte por unidad de producto del orígen $i$ al destino $j$,</li>\n",
    "</ol>\n",
    "\n",
    "\n",
    "##### Variables \n",
    "\n",
    "<ol>\n",
    "  <li>$x_{i,j} \\geq 0$, cantidad de producto que se transportará del origen $i\\in O$ al destino $j \\in D$.</li>\n",
    "</ol>\n",
    "\n",
    "##### Función objetivo \n",
    "\n",
    "$$\n",
    "\\min \\sum_{i \\in O, j \\in D} c_{i,j}x_{i,j} \\tag{1}\n",
    "$$\n",
    "\n",
    "##### Restricciones \n",
    "$$\n",
    "\\sum_{i \\in O}p_i = \\sum_{j \\in D}d_j,  \\tag{2}\n",
    "$$\n",
    "$$\n",
    "\\sum_{j \\in D} x_{i,j}=p_i ~~~~ \\text{para cada} ~~~~  i\\in O,  \\tag{3}\n",
    "$$\n",
    "$$\n",
    "\\sum_{i \\in O} x_{i,j}=d_j ~~~~ \\text{para cada} ~~~~  j\\in D.  \\tag{4}\n",
    "$$"
   ]
  },
  {
   "cell_type": "markdown",
   "metadata": {},
   "source": [
    "Primero importamos los módulos de Python que usaremos para resolver nuestro problema. "
   ]
  },
  {
   "cell_type": "code",
   "execution_count": 6,
   "metadata": {
    "collapsed": true
   },
   "outputs": [],
   "source": [
    "#%%Se importan los módulos necesarios ------------------------------------------\n",
    "import pandas as pd                                                            #para manipular tablas\n",
    "#%load_ext ampl\n",
    "from pulp import LpProblem, LpVariable, LpMinimize,lpSum, value                #para el modelo de optimización \n",
    "#------------------------------------------------------------------------------"
   ]
  },
  {
   "cell_type": "markdown",
   "metadata": {},
   "source": [
    "Luego leemos los parámetros del modelo. Para este ejemplo, nuestros datos estan en un archivo Excel.  "
   ]
  },
  {
   "cell_type": "code",
   "execution_count": 7,
   "metadata": {},
   "outputs": [
    {
     "name": "stdout",
     "output_type": "stream",
     "text": [
      "--------------------------------------------------\n",
      "      prod\n",
      "ORIG      \n",
      "GARY  1400\n",
      "CLEV  2600\n",
      "PITT  2900\n",
      "--------------------------------------------------\n",
      "       dem\n",
      "DEST      \n",
      "FRA    900\n",
      "DET   1200\n",
      "LAN    600\n",
      "WIN    400\n",
      "STL   1700\n",
      "FRE   1100\n",
      "LAF   1000\n",
      "--------------------------------------------------\n",
      "      FRA  DET  LAN  WIN  STL  FRE  LAF\n",
      "COST                                   \n",
      "GARY   39   14   11   14   16   82    8\n",
      "CLEV   27    9   12    9   26   95   17\n",
      "PITT   24   14   17   13   28   99   20\n",
      "--------------------------------------------------\n"
     ]
    }
   ],
   "source": [
    "file=\"C:/Users/A1644/OneDrive - Centro Nacional de Control de Energia (CENACE)/ESE-IPN- II-2017/Optimización/Python/BD_transport.xlsx\"\n",
    "\n",
    "x=pd.ExcelFile(file)                                                           #lee el archivo excel\n",
    "\n",
    "DF_O=x.parse('ORIG',index_col=\"ORIG\")                                          #lee las tablas del archivo excel\n",
    "DF_D=x.parse('DEST',index_col=\"DEST\")\n",
    "DF_CT=x.parse('COST',index_col=\"COST\") \n",
    "\n",
    "print(\"-\"*50)\n",
    "print(DF_O)\n",
    "print(\"-\"*50)\n",
    "print(DF_D)\n",
    "print(\"-\"*50)\n",
    "print(DF_CT)\n",
    "print(\"-\"*50)"
   ]
  },
  {
   "cell_type": "markdown",
   "metadata": {},
   "source": [
    "Ahora escribimos el modelo."
   ]
  },
  {
   "cell_type": "code",
   "execution_count": 19,
   "metadata": {},
   "outputs": [
    {
     "data": {
      "text/plain": [
       "1"
      ]
     },
     "execution_count": 19,
     "metadata": {},
     "output_type": "execute_result"
    }
   ],
   "source": [
    "#%% Se define el problema------------------------------------------------------\n",
    "Probt=LpProblem(\"Total_Cost\",LpMinimize)\n",
    "\n",
    "#se declaran las variables del modelo de optimización -------------------------\n",
    "X=LpVariable.dicts(\"transporte\", [(x, y) for x in set(DF_O.index) for y in set(DF_D.index)], lowBound=0, cat=\"Continuous\")  \n",
    "\n",
    "#Se define la función objetivo ------------------------------------------------ \n",
    "Probt+=lpSum(DF_CT.loc[i,j]*X[i,j] for i in set(DF_O.index) for j in set(DF_D.index))\n",
    "\n",
    "#Se agregan las restricciones ------------------------------------------------- \n",
    "#for i in DF_F.index:\n",
    "#    Prob+= X[i] >= DF_F.loc[i,\"f_min\"]\n",
    "#    Prob+= X[i] <= DF_F.loc[i,\"f_max\"]\n",
    "\n",
    "#Se agregan las restricciones ------------------------------------------------- \n",
    "Probt+= lpSum(DF_O.loc[i,\"prod\"] for i in set(DF_O.index))== lpSum(DF_D.loc[j,\"dem\"] for j in set(DF_D.index))\n",
    "#la anterior restricción solo es de verificación; no involucra ninguna variable\n",
    "\n",
    "for i in set(DF_O.index):\n",
    "    Probt+= lpSum(X[i,j] for j in set(DF_D.index))== DF_O.loc[i,\"prod\"]\n",
    "\n",
    "for j in set(DF_D.index):\n",
    "    Probt+= lpSum(X[i,j] for i in set(DF_O.index))== DF_D.loc[j,\"dem\"]\n",
    "\n",
    "#Se elige el solver------------------------------------------------------------ \n",
    "Probt.solve()    \n",
    "    "
   ]
  },
  {
   "cell_type": "markdown",
   "metadata": {},
   "source": [
    "NOTA.  Pulp no acepta las siguentes formas de restricción: "
   ]
  },
  {
   "cell_type": "markdown",
   "metadata": {},
   "source": [
    "A continuación mostramos la solución del problema de optimización."
   ]
  },
  {
   "cell_type": "code",
   "execution_count": 18,
   "metadata": {},
   "outputs": [
    {
     "name": "stdout",
     "output_type": "stream",
     "text": [
      "transporte_('CLEV',_'DET') = 1200.0\n",
      "transporte_('CLEV',_'FRA') = 0.0\n",
      "transporte_('CLEV',_'FRE') = 0.0\n",
      "transporte_('CLEV',_'LAF') = 400.0\n",
      "transporte_('CLEV',_'LAN') = 600.0\n",
      "transporte_('CLEV',_'STL') = 0.0\n",
      "transporte_('CLEV',_'WIN') = 400.0\n",
      "transporte_('GARY',_'DET') = 0.0\n",
      "transporte_('GARY',_'FRA') = 0.0\n",
      "transporte_('GARY',_'FRE') = 1100.0\n",
      "transporte_('GARY',_'LAF') = 300.0\n",
      "transporte_('GARY',_'LAN') = 0.0\n",
      "transporte_('GARY',_'STL') = 0.0\n",
      "transporte_('GARY',_'WIN') = 0.0\n",
      "transporte_('PITT',_'DET') = 0.0\n",
      "transporte_('PITT',_'FRA') = 900.0\n",
      "transporte_('PITT',_'FRE') = 0.0\n",
      "transporte_('PITT',_'LAF') = 300.0\n",
      "transporte_('PITT',_'LAN') = 0.0\n",
      "transporte_('PITT',_'STL') = 1700.0\n",
      "transporte_('PITT',_'WIN') = 0.0\n",
      "--------------------------------------------------\n",
      "Valor Obj. = 196200.0\n"
     ]
    }
   ],
   "source": [
    "for v in Probt.variables():\n",
    "    print(v.name,\"=\",v.varValue)                                               #valor de las variables         \n",
    "\n",
    "print(\"-\"*50)\n",
    "print(\"Valor Obj.\",\"=\", value(Probt.objective)) "
   ]
  },
  {
   "cell_type": "markdown",
   "metadata": {},
   "source": [
    "La solución anterior coencide con el que se muestra en la Página 35 del manual de AMPL."
   ]
  },
  {
   "cell_type": "code",
   "execution_count": 1,
   "metadata": {},
   "outputs": [
    {
     "name": "stderr",
     "output_type": "stream",
     "text": [
      "ERROR:root:Cell magic `%%ampl` not found.\n"
     ]
    }
   ],
   "source": [
    "%%ampl\n"
   ]
  },
  {
   "cell_type": "code",
   "execution_count": null,
   "metadata": {
    "collapsed": true
   },
   "outputs": [],
   "source": []
  }
 ],
 "metadata": {
  "kernelspec": {
   "display_name": "Python [default]",
   "language": "python",
   "name": "python3"
  },
  "language_info": {
   "codemirror_mode": {
    "name": "ipython",
    "version": 3
   },
   "file_extension": ".py",
   "mimetype": "text/x-python",
   "name": "python",
   "nbconvert_exporter": "python",
   "pygments_lexer": "ipython3",
   "version": "3.5.3"
  }
 },
 "nbformat": 4,
 "nbformat_minor": 2
}
